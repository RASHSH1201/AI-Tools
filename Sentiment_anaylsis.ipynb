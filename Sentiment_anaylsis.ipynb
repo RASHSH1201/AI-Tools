!pip install transformers gradio wordcloud
import pandas as pd
import matplotlib.pyplot as plt
from collections import Counter
from wordcloud import WordCloud
from transformers import pipeline
import gradio as gr

# Load sentiment pipeline
sentiment_pipeline = pipeline("sentiment-analysis")

# Main analysis function
def analyze_sentiments(file=None, text=None):
    if file is not None:
        if file.name.endswith('.csv'):
            df = pd.read_csv(file.name)
            comments = df.iloc[:, 0].dropna().astype(str).tolist()
        elif file.name.endswith('.json'):
            df = pd.read_json(file.name)
            comments = df.iloc[:, 0].dropna().astype(str).tolist()
        else:
            return "Unsupported file format.", None, None, None
    elif text:
        comments = [line.strip() for line in text.split('\n') if line.strip()]
    else:
        return "No input provided.", None, None, None

    if not comments:
        return "No comments to analyze.", None, None, None

    selected_comments = comments[:20]
    results = sentiment_pipeline(selected_comments)
    sentiments = [r['label'] for r in results]
    counts = Counter(sentiments)

    # Summary
    total = len(sentiments)
    summary = "\n".join([f"{label}: {count / total * 100:.1f}%" for label, count in counts.items()])

    # Pie Chart
    fig, ax = plt.subplots()
    ax.pie(counts.values(), labels=counts.keys(), autopct='%1.1f%%', startangle=90)
    ax.set_title("Sentiment Distribution")

    # Word clouds
    pos_text = " ".join([c for c, r in zip(selected_comments, results) if r['label'] == 'POSITIVE'])
    neg_text = " ".join([c for c, r in zip(selected_comments, results) if r['label'] == 'NEGATIVE'])

    pos_wc = WordCloud(width=400, height=200, background_color='white').generate(pos_text)
    neg_wc = WordCloud(width=400, height=200, background_color='white').generate(neg_text)

    return summary, fig, pos_wc.to_image(), neg_wc.to_image()

# Gradio UI
gr.Interface(
    fn=analyze_sentiments,
    inputs=[
        gr.File(label="Upload CSV/JSON (first column = reviews)"),
        gr.Textbox(lines=10, placeholder="Or paste reviews, one per line", label="Paste Reviews")
    ],
    outputs=[
        gr.Textbox(label="Sentiment Summary"),
        gr.Plot(label="Sentiment Pie Chart"),
        gr.Image(label="Positive Word Cloud"),
        gr.Image(label="Negative Word Cloud")
    ],
    title="🧠 AI-Powered Sentiment Review Analyzer",
    description="Upload reviews to get automatic sentiment breakdown, pie charts, and word clouds!"
).launch()

